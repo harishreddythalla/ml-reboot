{
 "cells": [
  {
   "cell_type": "code",
   "execution_count": 13,
   "id": "f42681b0-0144-4951-8d92-190d3bc7871d",
   "metadata": {},
   "outputs": [],
   "source": [
    "import torch\n",
    "import torch.nn as nn\n",
    "import torch.optim as optim\n",
    "\n",
    "from sklearn.datasets import make_classification\n",
    "from sklearn.model_selection import train_test_split\n",
    "from sklearn.preprocessing import StandardScaler\n",
    "\n",
    "import pandas as pd\n",
    "import numpy as np\n",
    "import matplotlib.pyplot as plt"
   ]
  },
  {
   "cell_type": "code",
   "execution_count": 14,
   "id": "63955ffe-3ac9-44c8-9766-e85da56c8797",
   "metadata": {},
   "outputs": [
    {
     "name": "stdout",
     "output_type": "stream",
     "text": [
      "[[-1.8306329  -0.09533956 -0.65407568  0.72405061 -0.18131925]\n",
      " [ 0.26028051  0.08015108 -0.41346516 -1.27331422  1.48260887]]\n",
      "[0 1]\n"
     ]
    }
   ],
   "source": [
    "X, y = make_classification(\n",
    "    n_samples = 500,\n",
    "    n_features = 5,\n",
    "    n_informative = 3,\n",
    "    n_redundant = 0,\n",
    "    n_classes = 2,\n",
    "    random_state = 42)\n",
    "print(X[:2])\n",
    "print(y[:2])"
   ]
  },
  {
   "cell_type": "code",
   "execution_count": 15,
   "id": "ae03bf09-e14b-404f-a138-aa8b062a770f",
   "metadata": {},
   "outputs": [],
   "source": [
    "X_train, X_test, y_train, y_test = train_test_split(X,y, test_size=0.2, random_state=42)\n",
    "\n",
    "scaler = StandardScaler()\n",
    "scaler.fit(X_train)\n",
    "X_train = scaler.transform(X_train)\n",
    "X_test = scaler.transform(X_test)\n",
    "\n",
    "#Converting to PyTorch tensors -> Pytorch tensors are nothing but arrays that can run in both GPUs and CPUs\n",
    "X_train = torch.tensor(X_train, dtype = torch.float32)\n",
    "y_train = torch.tensor(y_train, dtype=torch.float32).unsqueeze(1)  # shape (N,1)\n",
    "X_test = torch.tensor(X_test, dtype=torch.float32)\n",
    "y_test = torch.tensor(y_test, dtype=torch.float32).unsqueeze(1)"
   ]
  },
  {
   "cell_type": "code",
   "execution_count": 32,
   "id": "36479055-d185-42ff-80cd-df4afd1ca6ae",
   "metadata": {},
   "outputs": [],
   "source": [
    "class SimpleNN(nn.Module): #inheriting from nn.Module, which is the base class in PyTorch for all neural networks\n",
    "    def __init__(self, input_dim, hidden_dim): #constructor\n",
    "        super(SimpleNN, self).__init__() #calling parent class constructor\n",
    "        self.fc1 = nn.Linear(input_dim, hidden_dim) #fc = fully connected\n",
    "        self.relu = nn.ReLU()\n",
    "        self.fc2 = nn.Linear(hidden_dim, 1)\n",
    "\n",
    "    def forward(self, x):\n",
    "        x=self.fc1(x)\n",
    "        x=self.relu(x)\n",
    "        x=self.fc2(x)\n",
    "        return x"
   ]
  },
  {
   "cell_type": "code",
   "execution_count": 45,
   "id": "c5336ec0-e366-4812-bddf-8951e7430e56",
   "metadata": {},
   "outputs": [],
   "source": [
    "input_dim = X_train.shape[1]\n",
    "hidden_dim = 10\n",
    "model = SimpleNN(input_dim, hidden_dim)\n",
    "\n",
    "criterion = nn.BCEWithLogitsLoss() #Binary cross entropy with logits loss\n",
    "optimizer = optim.Adam(model.parameters(), lr = 0.01)"
   ]
  },
  {
   "cell_type": "code",
   "execution_count": 46,
   "id": "0f3a2f0c-39dc-420a-a821-64f795c2a5d7",
   "metadata": {},
   "outputs": [
    {
     "name": "stdout",
     "output_type": "stream",
     "text": [
      "Epoch [10/100], Loss: 0.3623\n",
      "Epoch [20/100], Loss: 0.2817\n",
      "Epoch [30/100], Loss: 0.2441\n",
      "Epoch [40/100], Loss: 0.2161\n",
      "Epoch [50/100], Loss: 0.1941\n",
      "Epoch [60/100], Loss: 0.1743\n",
      "Epoch [70/100], Loss: 0.1575\n",
      "Epoch [80/100], Loss: 0.1444\n",
      "Epoch [90/100], Loss: 0.1353\n",
      "Epoch [100/100], Loss: 0.1281\n"
     ]
    }
   ],
   "source": [
    "epochs = 100\n",
    "loss_log = []\n",
    "\n",
    "for epoch in range(epochs):\n",
    "    model.train()\n",
    "\n",
    "    #forward pass\n",
    "    outputs = model(X_train)\n",
    "    loss = criterion(outputs, y_train)\n",
    "\n",
    "    #backward pass\n",
    "    optimizer.zero_grad()\n",
    "    loss.backward()\n",
    "    optimizer.step()\n",
    "\n",
    "    loss_log.append(loss.item())\n",
    "    if (epoch+1) % 10 == 0:\n",
    "        print(f\"Epoch [{epoch+1}/{epochs}], Loss: {loss.item():.4f}\")\n"
   ]
  },
  {
   "cell_type": "code",
   "execution_count": 47,
   "id": "b0427863-8082-45bf-95bf-362778e3487f",
   "metadata": {},
   "outputs": [],
   "source": [
    "loss_df = pd.DataFrame({'epoch': list(range(1, epochs+1)), 'loss': loss_log})\n",
    "loss_df.to_csv('training_loss.csv', index=False)\n"
   ]
  },
  {
   "cell_type": "code",
   "execution_count": 48,
   "id": "a8629837-7a16-4056-96be-e9038abb507d",
   "metadata": {},
   "outputs": [
    {
     "name": "stdout",
     "output_type": "stream",
     "text": [
      "Test Accuracy: 0.9400\n"
     ]
    }
   ],
   "source": [
    "model.eval()\n",
    "with torch.no_grad():\n",
    "    test_outputs = model(X_test)\n",
    "    predictions = torch.sigmoid(test_outputs).round()  # convert logits to 0/1\n",
    "    accuracy = (predictions.eq(y_test).sum() / y_test.shape[0]).item()\n",
    "    print(f\"Test Accuracy: {accuracy:.4f}\")"
   ]
  },
  {
   "cell_type": "code",
   "execution_count": 49,
   "id": "5548db27-5aa8-43e8-b707-d831ccc3ce21",
   "metadata": {},
   "outputs": [
    {
     "data": {
      "image/png": "[encoded data removed]",
      "text/plain": [
       "<Figure size 640x480 with 1 Axes>"
      ]
     },
     "metadata": {},
     "output_type": "display_data"
    }
   ],
   "source": [
    "plt.plot(loss_df['epoch'], loss_df['loss'])\n",
    "plt.xlabel('Epoch')\n",
    "plt.ylabel('Loss')\n",
    "plt.title('Training Loss')\n",
    "plt.show()\n"
   ]
  },
  {
   "cell_type": "code",
   "execution_count": null,
   "id": "01250d83-f4d7-423c-bf16-d1fe73452ba3",
   "metadata": {},
   "outputs": [],
   "source": []
  }
 ],
 "metadata": {
  "kernelspec": {
   "display_name": "Python 3 (ipykernel)",
   "language": "python",
   "name": "python3"
  },
  "language_info": {
   "codemirror_mode": {
    "name": "ipython",
    "version": 3
   },
   "file_extension": ".py",
   "mimetype": "text/x-python",
   "name": "python",
   "nbconvert_exporter": "python",
   "pygments_lexer": "ipython3",
   "version": "3.13.0"
  }
 },
 "nbformat": 4,
 "nbformat_minor": 5
}
