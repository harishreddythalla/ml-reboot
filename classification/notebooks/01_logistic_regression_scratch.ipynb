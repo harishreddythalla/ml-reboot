{
 "cells": [
  {
   "cell_type": "code",
   "execution_count": 39,
   "id": "261ac21c-21bb-49a1-baee-1e5097172b29",
   "metadata": {},
   "outputs": [],
   "source": [
    "import numpy as np\n",
    "\n",
    "# 1. Generate simple dataset\n",
    "np.random.seed(42)\n",
    "X = np.random.randn(100, 2)\n",
    "true_w = np.array([1.5, -2.0])\n",
    "true_b = 0.5\n",
    "logits = X @ true_w + true_b\n",
    "probs = 1 / (1 + np.exp(-logits))\n",
    "y = (probs > 0.5).astype(int)"
   ]
  },
  {
   "cell_type": "code",
   "execution_count": 40,
   "id": "84d07b98-bd65-499b-acd2-2b56dcb1e954",
   "metadata": {},
   "outputs": [],
   "source": [
    "# 2. Initialize parameters\n",
    "w = np.zeros(X.shape[1])\n",
    "b = 0.0\n",
    "lr = 0.1\n",
    "epochs = 10000"
   ]
  },
  {
   "cell_type": "code",
   "execution_count": 41,
   "id": "f23c9706-8d88-409b-9f62-f892d02fb0cc",
   "metadata": {},
   "outputs": [],
   "source": [
    "def sigmoid(z):\n",
    "    return 1 / (1 + np.exp(-z))\n",
    "\n",
    "def binary_crossentropy_loss(y, y_hat):\n",
    "    return -np.mean(y * np.log(y_hat + 1e-8) + (1 - y) * np.log(1 - y_hat + 1e-8))"
   ]
  },
  {
   "cell_type": "code",
   "execution_count": 42,
   "id": "f66a10a0-bc71-498f-b580-83c0a812253d",
   "metadata": {},
   "outputs": [
    {
     "name": "stdout",
     "output_type": "stream",
     "text": [
      "Epoch 0, Loss: 0.6931\n",
      "Epoch 1000, Loss: 0.1182\n",
      "Epoch 2000, Loss: 0.0926\n",
      "Epoch 3000, Loss: 0.0809\n",
      "Epoch 4000, Loss: 0.0737\n",
      "Epoch 5000, Loss: 0.0687\n",
      "Epoch 6000, Loss: 0.0648\n",
      "Epoch 7000, Loss: 0.0618\n",
      "Epoch 8000, Loss: 0.0593\n",
      "Epoch 9000, Loss: 0.0572\n",
      "Learned weights: [ 7.23853534 -9.45533086] bias: 2.47730406201249\n"
     ]
    }
   ],
   "source": [
    "#Training\n",
    "\n",
    "for epoch in range(epochs):\n",
    "    z = X @ w + b\n",
    "    y_hat = sigmoid(z)\n",
    "\n",
    "    # Loss: binary cross entropy\n",
    "    loss = binary_crossentropy_loss(y, y_hat)\n",
    "\n",
    "    # Gradients\n",
    "    dw = (1 / len(X)) * X.T @ (y_hat - y)\n",
    "    db = np.mean(y_hat - y)\n",
    "\n",
    "    # Update parameters\n",
    "    w -= lr * dw\n",
    "    b -= lr * db\n",
    "\n",
    "    if epoch % 1000 == 0:\n",
    "        print(f\"Epoch {epoch}, Loss: {loss:.4f}\")\n",
    "\n",
    "print(\"Learned weights:\", w, \"bias:\", b)    "
   ]
  },
  {
   "cell_type": "code",
   "execution_count": 43,
   "id": "57f66621-53fa-4afc-af65-cfaff437b687",
   "metadata": {},
   "outputs": [],
   "source": [
    "def predict(x):\n",
    "    logits = x @ w + b\n",
    "    probs = 1 / (1 + np.exp(-logits))\n",
    "    y_pred = (probs > 0.5).astype(int)\n",
    "    return y_pred"
   ]
  },
  {
   "cell_type": "code",
   "execution_count": 51,
   "id": "4d147680-62eb-4a92-8e7c-123d4c886773",
   "metadata": {},
   "outputs": [
    {
     "name": "stdout",
     "output_type": "stream",
     "text": [
      "0.99\n"
     ]
    }
   ],
   "source": [
    "from sklearn.metrics import accuracy_score\n",
    "from sklearn.metrics import confusion_matrix, ConfusionMatrixDisplay, accuracy_score\n",
    "import matplotlib.pyplot as plt\n",
    "\n",
    "y_pred = predict(X)\n",
    "acc = accuracy_score(y, y_pred)\n",
    "print(acc)"
   ]
  },
  {
   "cell_type": "code",
   "execution_count": 52,
   "id": "d85d10cd-ff3c-44e2-97c9-78d9f44b021d",
   "metadata": {},
   "outputs": [
    {
     "data": {
      "image/png": "[encoded data removed]",
      "text/plain": [
       "<Figure size 640x480 with 2 Axes>"
      ]
     },
     "metadata": {},
     "output_type": "display_data"
    }
   ],
   "source": [
    "# 5. Confusion Matrix\n",
    "cm = confusion_matrix(y, y_pred)\n",
    "disp = ConfusionMatrixDisplay(confusion_matrix=cm)\n",
    "disp.plot()\n",
    "plt.show()"
   ]
  },
  {
   "cell_type": "code",
   "execution_count": null,
   "id": "fdd8c466-1916-4ef1-9853-650031097bcf",
   "metadata": {},
   "outputs": [],
   "source": []
  }
 ],
 "metadata": {
  "kernelspec": {
   "display_name": "Python 3 (ipykernel)",
   "language": "python",
   "name": "python3"
  },
  "language_info": {
   "codemirror_mode": {
    "name": "ipython",
    "version": 3
   },
   "file_extension": ".py",
   "mimetype": "text/x-python",
   "name": "python",
   "nbconvert_exporter": "python",
   "pygments_lexer": "ipython3",
   "version": "3.13.0"
  }
 },
 "nbformat": 4,
 "nbformat_minor": 5
}
